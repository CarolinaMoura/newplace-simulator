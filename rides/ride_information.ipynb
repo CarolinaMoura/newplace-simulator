{
 "cells": [
  {
   "cell_type": "code",
   "execution_count": 1,
   "metadata": {},
   "outputs": [
    {
     "name": "stderr",
     "output_type": "stream",
     "text": [
      "/tmp/ipykernel_80447/1467904526.py:7: DtypeWarning: Columns (5) have mixed types. Specify dtype option on import or set low_memory=False.\n",
      "  df = pd.read_csv(file_path)\n"
     ]
    },
    {
     "name": "stdout",
     "output_type": "stream",
     "text": [
      "There are 1000000 trips in the dataset\n"
     ]
    }
   ],
   "source": [
    "import pandas as pd\n",
    "\n",
    "# Specify the path\n",
    "file_path = \"202401-citibike-tripdata_1.csv\"\n",
    "\n",
    "# Read the data\n",
    "df = pd.read_csv(file_path)\n",
    "\n",
    "# Extract the fields that are provided\n",
    "print(f\"There are {len(df)} trips in the dataset\")"
   ]
  },
  {
   "cell_type": "code",
   "execution_count": 4,
   "metadata": {},
   "outputs": [],
   "source": [
    "from datetime import datetime \n",
    "from helper import Ride\n",
    "\n",
    "def convert_string_to_datetime_object(str):\n",
    "    date_format = \"%Y-%m-%d %H:%M:%S\"\n",
    "    datetime_object = datetime.strptime(str, date_format)\n",
    "    return datetime_object\n",
    "\n",
    "rides = []\n",
    "\n",
    "for ix, row in df.iterrows():\n",
    "    if len(rides) > 5:\n",
    "        break\n",
    "    ended = convert_string_to_datetime_object(row['ended_at'])\n",
    "    begun = convert_string_to_datetime_object(row['started_at'])\n",
    "\n",
    "    ride = Ride(row['ride_id'], begun, ended, row['start_station_id'], \\\n",
    "                row['end_station_id'], row['member_casual'])\n",
    "    rides.append(ride)"
   ]
  }
 ],
 "metadata": {
  "kernelspec": {
   "display_name": ".env",
   "language": "python",
   "name": "python3"
  },
  "language_info": {
   "codemirror_mode": {
    "name": "ipython",
    "version": 3
   },
   "file_extension": ".py",
   "mimetype": "text/x-python",
   "name": "python",
   "nbconvert_exporter": "python",
   "pygments_lexer": "ipython3",
   "version": "3.10.12"
  }
 },
 "nbformat": 4,
 "nbformat_minor": 2
}
