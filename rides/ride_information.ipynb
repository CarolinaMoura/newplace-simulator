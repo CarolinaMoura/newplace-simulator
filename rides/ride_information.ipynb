{
 "cells": [
  {
   "cell_type": "code",
   "execution_count": 3,
   "metadata": {},
   "outputs": [
    {
     "name": "stderr",
     "output_type": "stream",
     "text": [
      "/tmp/ipykernel_9823/3916306689.py:7: DtypeWarning: Columns (5,7) have mixed types. Specify dtype option on import or set low_memory=False.\n",
      "  df = pd.read_csv(file_path)\n"
     ]
    },
    {
     "name": "stdout",
     "output_type": "stream",
     "text": [
      "Index(['ride_id', 'rideable_type', 'started_at', 'ended_at',\n",
      "       'start_station_name', 'start_station_id', 'end_station_name',\n",
      "       'end_station_id', 'start_lat', 'start_lng', 'end_lat', 'end_lng',\n",
      "       'member_casual'],\n",
      "      dtype='object')\n",
      "There are 954376 trips in the dataset\n",
      "ride_id                  C1B92340DDCAD1B0\n",
      "rideable_type                classic_bike\n",
      "started_at            2024-01-15 18:13:13\n",
      "ended_at              2024-01-15 18:17:09\n",
      "start_station_name    St Marks Pl & 2 Ave\n",
      "start_station_id                   5669.1\n",
      "end_station_name           1 Ave & E 6 St\n",
      "end_station_id                    5626.15\n",
      "start_lat                       40.728419\n",
      "start_lng                       -73.98714\n",
      "end_lat                         40.726331\n",
      "end_lng                        -73.986169\n",
      "member_casual                      member\n",
      "Name: 0, dtype: object\n"
     ]
    }
   ],
   "source": [
    "import pandas as pd\n",
    "\n",
    "# Specify the path\n",
    "file_path = \"202401-citibike-tripdata_2.csv\"\n",
    "\n",
    "# Read the data\n",
    "df = pd.read_csv(file_path)\n",
    "\n",
    "# Extract the fields that are provided\n",
    "print(df.keys())\n",
    "\n",
    "print(f\"There are {len(df)} trips in the dataset\")\n",
    "print(df.iloc[0])"
   ]
  }
 ],
 "metadata": {
  "kernelspec": {
   "display_name": ".env",
   "language": "python",
   "name": "python3"
  },
  "language_info": {
   "codemirror_mode": {
    "name": "ipython",
    "version": 3
   },
   "file_extension": ".py",
   "mimetype": "text/x-python",
   "name": "python",
   "nbconvert_exporter": "python",
   "pygments_lexer": "ipython3",
   "version": "3.10.12"
  }
 },
 "nbformat": 4,
 "nbformat_minor": 2
}
