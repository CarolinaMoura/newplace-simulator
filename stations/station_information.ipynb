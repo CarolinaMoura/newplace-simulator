{
 "cells": [
  {
   "cell_type": "code",
   "execution_count": 8,
   "metadata": {},
   "outputs": [
    {
     "name": "stdout",
     "output_type": "stream",
     "text": [
      "There are 2209 stations in NYC.\n",
      "Information available for each station:\n",
      "dict_keys(['external_id', 'region_id', 'lon', 'capacity', 'eightd_station_services', 'has_kiosk', 'name', 'electric_bike_surcharge_waiver', 'rental_methods', 'rental_uris', 'short_name', 'station_type', 'lat', 'station_id', 'eightd_has_key_dispenser'])\n"
     ]
    }
   ],
   "source": [
    "import pandas as pd\n",
    "import json\n",
    "\n",
    "# Specify the path\n",
    "file_path = \"station_information.json\"\n",
    "\n",
    "# Read the data\n",
    "with open(file_path) as file:\n",
    "    data = json.load(file)\n",
    "\n",
    "# data is a dictionary with keys ['data', 'last_updated', 'ttl', 'version']\n",
    "data = data['data']\n",
    "# data['data'] is a dictionary with the single key ['stations']\n",
    "data = data['stations']\n",
    "# data['stations'] is a list of dictionaries, where each dict is a station\n",
    "fields = data[0].keys()\n",
    "\n",
    "\n",
    "print(f\"There are {len(data)} stations in NYC.\")\n",
    "print(f\"Information available for each station:\")\n",
    "print(fields)"
   ]
  },
  {
   "cell_type": "code",
   "execution_count": 2,
   "metadata": {},
   "outputs": [],
   "source": [
    "from stations.helper import Station\n",
    "\n",
    "stations = []\n",
    "\n",
    "# The fields that matter for our simulation\n",
    "interesting_fields = ['station_id', 'name', 'lat', 'lon', 'capacity']\n",
    "\n",
    "# Extract the fields that are provided\n",
    "for station_info in data:\n",
    "    info_array = [station_info[field] for field in interesting_fields]\n",
    "    stations.append(Station(*info_array))\n",
    "\n",
    "def find_by_attr(attr, value):\n",
    "    \"\"\"\n",
    "    Returns the first station that has the given attribute value\n",
    "    \"\"\"\n",
    "    for station in stations:\n",
    "        if getattr(station, attr) == value:\n",
    "            return station\n",
    "    return None"
   ]
  },
  {
   "cell_type": "code",
   "execution_count": 4,
   "metadata": {},
   "outputs": [],
   "source": [
    "from stations.helper import Location \n",
    "import pickle\n",
    "\n",
    "try:\n",
    "    with open('station_adjacency', 'rb') as file:\n",
    "        adj = pickle.load(file)\n",
    "except:\n",
    "    adj = { st.number: [] for st in stations }\n",
    "\n",
    "    for ix1,station1 in enumerate(stations):\n",
    "        st1 = station1.number\n",
    "        for station2 in stations[ix1+1:]:\n",
    "            st2 = station2.number\n",
    "            if station1.distance(station2) < 350:\n",
    "                adj[st1].append(st2)\n",
    "                adj[st2].append(st1)\n",
    "    \n",
    "    with open('station_adjacency', 'wb') as file:\n",
    "        pickle.dump(adj, file)"
   ]
  },
  {
   "cell_type": "code",
   "execution_count": 6,
   "metadata": {},
   "outputs": [
    {
     "name": "stdout",
     "output_type": "stream",
     "text": [
      "The maximum connected component has size 29\n"
     ]
    }
   ],
   "source": [
    "from stations.helper import Dfs\n",
    "\n",
    "connected_component = (0,-1)\n",
    "dfs = Dfs(adj) \n",
    "\n",
    "for id in adj:\n",
    "    size_my_component = dfs.run_dfs(id)\n",
    "    connected_component = max(connected_component, (size_my_component, id))\n",
    "\n",
    "print(f\"The maximum connected component has size {connected_component[0]}\")"
   ]
  }
 ],
 "metadata": {
  "kernelspec": {
   "display_name": ".env",
   "language": "python",
   "name": "python3"
  },
  "language_info": {
   "codemirror_mode": {
    "name": "ipython",
    "version": 3
   },
   "file_extension": ".py",
   "mimetype": "text/x-python",
   "name": "python",
   "nbconvert_exporter": "python",
   "pygments_lexer": "ipython3",
   "version": "3.10.12"
  }
 },
 "nbformat": 4,
 "nbformat_minor": 2
}
