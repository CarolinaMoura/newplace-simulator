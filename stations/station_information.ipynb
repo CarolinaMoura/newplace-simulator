{
 "cells": [
  {
   "cell_type": "code",
   "execution_count": 5,
   "metadata": {},
   "outputs": [
    {
     "name": "stdout",
     "output_type": "stream",
     "text": [
      "There are 2209 stations in NYC.\n",
      "Information available for each station:\n",
      "dict_keys(['external_id', 'region_id', 'lon', 'capacity', 'eightd_station_services', 'has_kiosk', 'name', 'electric_bike_surcharge_waiver', 'rental_methods', 'rental_uris', 'short_name', 'station_type', 'lat', 'station_id', 'eightd_has_key_dispenser'])\n"
     ]
    }
   ],
   "source": [
    "import pandas as pd\n",
    "import json\n",
    "\n",
    "# Specify the path\n",
    "file_path = \"station_information.json\"\n",
    "\n",
    "# Read the data\n",
    "with open(file_path) as file:\n",
    "    data = json.load(file)\n",
    "\n",
    "# data is a dictionary with keys ['data', 'last_updated', 'ttl', 'version']\n",
    "data = data['data']\n",
    "# data['data'] is a dictionary with the single key ['stations']\n",
    "data = data['stations']\n",
    "# data['stations'] is a list of dictionaries, where each dict is a station\n",
    "fields = data[0].keys()\n",
    "\n",
    "\n",
    "print(f\"There are {len(data)} stations in NYC.\")\n",
    "print(f\"Information available for each station:\")\n",
    "print(fields)"
   ]
  },
  {
   "cell_type": "code",
   "execution_count": 6,
   "metadata": {},
   "outputs": [],
   "source": [
    "from helper import Station\n",
    "\n",
    "stations = []\n",
    "\n",
    "# The fields that matter for our simulation\n",
    "interesting_fields = ['station_id', 'name', 'lat', 'lon', 'capacity', 'short_name']\n",
    "\n",
    "# Extract the fields that are provided\n",
    "for station_info in data:\n",
    "    info_array = [station_info[field] for field in interesting_fields]\n",
    "    stations.append(Station(*info_array))"
   ]
  },
  {
   "cell_type": "markdown",
   "metadata": {},
   "source": [
    "## Calculate graph\n",
    "Calculate graph where edges are average duration of a ride from station to station."
   ]
  },
  {
   "cell_type": "code",
   "execution_count": 7,
   "metadata": {},
   "outputs": [
    {
     "data": {
      "image/png": "[encoded data removed]",
      "text/plain": [
       "<Figure size 640x480 with 1 Axes>"
      ]
     },
     "metadata": {},
     "output_type": "display_data"
    }
   ],
   "source": [
    "\n",
    "import random\n",
    "import numpy\n",
    "from matplotlib import pyplot\n",
    "\n",
    "x = [random.gauss(3,1) for _ in range(400)]\n",
    "y = [random.gauss(4,2) for _ in range(400)]\n",
    "\n",
    "bins = numpy.linspace(-10, 10, 100)\n",
    "\n",
    "pyplot.hist(x, bins, alpha=0.5, label='x', edgecolor='black')\n",
    "pyplot.hist(y, bins, alpha=0.5, label='y',edgecolor='black')\n",
    "pyplot.legend(loc='upper right')\n",
    "pyplot.show()"
   ]
  },
  {
   "cell_type": "code",
   "execution_count": 8,
   "metadata": {},
   "outputs": [],
   "source": [
    "import pickle\n",
    "\n",
    "try:\n",
    "    with open('station_adjacency.pickle', 'rb') as file:\n",
    "        adj = pickle.load(file)\n",
    "except:\n",
    "    adj = { st.id: [] for st in stations }\n",
    "\n",
    "    for ix1,station1 in enumerate(stations):\n",
    "        st1 = station1.id\n",
    "        for station2 in stations[ix1+1:]:\n",
    "            st2 = station2.id\n",
    "            if station1.distance(station2) < 350:\n",
    "                adj[st1].append(st2)\n",
    "                adj[st2].append(st1)\n",
    "    \n",
    "    with open('station_adjacency.pickle', 'wb') as file:\n",
    "        pickle.dump(adj, file)"
   ]
  },
  {
   "cell_type": "code",
   "execution_count": 9,
   "metadata": {},
   "outputs": [
    {
     "name": "stdout",
     "output_type": "stream",
     "text": [
      "The maximum connected component has size 1040\n"
     ]
    }
   ],
   "source": [
    "from helper import Dfs\n",
    "\n",
    "connected_component = (0,-1)\n",
    "dfs = Dfs(adj) \n",
    "\n",
    "for id in adj:\n",
    "    size_my_component = dfs.run_dfs(id)\n",
    "    connected_component = max(connected_component, (size_my_component, id))\n",
    "\n",
    "print(f\"The maximum connected component has size {connected_component[0]}\")"
   ]
  }
 ],
 "metadata": {
  "kernelspec": {
   "display_name": ".env",
   "language": "python",
   "name": "python3"
  },
  "language_info": {
   "codemirror_mode": {
    "name": "ipython",
    "version": 3
   },
   "file_extension": ".py",
   "mimetype": "text/x-python",
   "name": "python",
   "nbconvert_exporter": "python",
   "pygments_lexer": "ipython3",
   "version": "3.10.12"
  }
 },
 "nbformat": 4,
 "nbformat_minor": 2
}
